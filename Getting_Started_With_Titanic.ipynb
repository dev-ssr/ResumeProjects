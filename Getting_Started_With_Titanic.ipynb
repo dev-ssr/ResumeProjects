{
  "metadata": {
    "kernelspec": {
      "language": "python",
      "display_name": "Python 3",
      "name": "python3"
    },
    "language_info": {
      "name": "python",
      "version": "3.10.14",
      "mimetype": "text/x-python",
      "codemirror_mode": {
        "name": "ipython",
        "version": 3
      },
      "pygments_lexer": "ipython3",
      "nbconvert_exporter": "python",
      "file_extension": ".py"
    },
    "kaggle": {
      "accelerator": "none",
      "dataSources": [
        {
          "sourceId": 3136,
          "databundleVersionId": 26502,
          "sourceType": "competition"
        }
      ],
      "dockerImageVersionId": 30786,
      "isInternetEnabled": false,
      "language": "python",
      "sourceType": "notebook",
      "isGpuEnabled": false
    },
    "colab": {
      "name": "Getting Started With Titanic",
      "provenance": [],
      "include_colab_link": true
    }
  },
  "nbformat_minor": 0,
  "nbformat": 4,
  "cells": [
    {
      "cell_type": "markdown",
      "metadata": {
        "id": "view-in-github",
        "colab_type": "text"
      },
      "source": [
        "<a href=\"https://colab.research.google.com/github/dev-ssr/ResumeProjects/blob/main/Getting_Started_With_Titanic.ipynb\" target=\"_parent\"><img src=\"https://colab.research.google.com/assets/colab-badge.svg\" alt=\"Open In Colab\"/></a>"
      ]
    },
    {
      "source": [
        "# IMPORTANT: SOME KAGGLE DATA SOURCES ARE PRIVATE\n",
        "# RUN THIS CELL IN ORDER TO IMPORT YOUR KAGGLE DATA SOURCES.\n",
        "import kagglehub\n",
        "kagglehub.login()\n"
      ],
      "metadata": {
        "id": "82fAZREsV2Hm"
      },
      "cell_type": "code",
      "outputs": [],
      "execution_count": null
    },
    {
      "source": [
        "# IMPORTANT: RUN THIS CELL IN ORDER TO IMPORT YOUR KAGGLE DATA SOURCES,\n",
        "# THEN FEEL FREE TO DELETE THIS CELL.\n",
        "# NOTE: THIS NOTEBOOK ENVIRONMENT DIFFERS FROM KAGGLE'S PYTHON\n",
        "# ENVIRONMENT SO THERE MAY BE MISSING LIBRARIES USED BY YOUR\n",
        "# NOTEBOOK.\n",
        "\n",
        "titanic_path = kagglehub.competition_download('titanic')\n",
        "\n",
        "print('Data source import complete.')\n"
      ],
      "metadata": {
        "id": "jpMIYeniV2Hn"
      },
      "cell_type": "code",
      "outputs": [],
      "execution_count": null
    },
    {
      "cell_type": "code",
      "source": [
        "# This Python 3 environment comes with many helpful analytics libraries installed\n",
        "# It is defined by the kaggle/python Docker image: https://github.com/kaggle/docker-python\n",
        "# For example, here's several helpful packages to load\n",
        "\n",
        "import numpy as np # linear algebra\n",
        "import pandas as pd # data processing, CSV file I/O (e.g. pd.read_csv)\n",
        "\n",
        "# Input data files are available in the read-only \"../input/\" directory\n",
        "# For example, running this (by clicking run or pressing Shift+Enter) will list all files under the input directory\n",
        "\n",
        "import os\n",
        "for dirname, _, filenames in os.walk('/kaggle/input'):\n",
        "    for filename in filenames:\n",
        "        print(os.path.join(dirname, filename))\n",
        "\n",
        "# You can write up to 20GB to the current directory (/kaggle/working/) that gets preserved as output when you create a version using \"Save & Run All\"\n",
        "# You can also write temporary files to /kaggle/temp/, but they won't be saved outside of the current session"
      ],
      "metadata": {
        "_uuid": "8f2839f25d086af736a60e9eeb907d3b93b6e0e5",
        "_cell_guid": "b1076dfc-b9ad-4769-8c92-a6c4dae69d19",
        "trusted": true,
        "execution": {
          "iopub.status.busy": "2024-11-06T19:12:05.944423Z",
          "iopub.execute_input": "2024-11-06T19:12:05.944887Z",
          "iopub.status.idle": "2024-11-06T19:12:07.569962Z",
          "shell.execute_reply.started": "2024-11-06T19:12:05.944842Z",
          "shell.execute_reply": "2024-11-06T19:12:07.568458Z"
        },
        "id": "7JGnMgIbV2Hn"
      },
      "outputs": [],
      "execution_count": null
    },
    {
      "cell_type": "code",
      "source": [
        "train_data = pd.read_csv(\"/kaggle/input/titanic/train.csv\")\n",
        "train_data.head()"
      ],
      "metadata": {
        "trusted": true,
        "execution": {
          "iopub.status.busy": "2024-11-06T19:15:29.018777Z",
          "iopub.execute_input": "2024-11-06T19:15:29.019241Z",
          "iopub.status.idle": "2024-11-06T19:15:29.061652Z",
          "shell.execute_reply.started": "2024-11-06T19:15:29.019198Z",
          "shell.execute_reply": "2024-11-06T19:15:29.060223Z"
        },
        "id": "LJeEEtC0V2Hn"
      },
      "outputs": [],
      "execution_count": null
    },
    {
      "cell_type": "code",
      "source": [
        "test_data = pd.read_csv(\"/kaggle/input/titanic/test.csv\")\n",
        "test_data.head()"
      ],
      "metadata": {
        "trusted": true,
        "execution": {
          "iopub.status.busy": "2024-11-06T19:17:07.215189Z",
          "iopub.execute_input": "2024-11-06T19:17:07.215802Z",
          "iopub.status.idle": "2024-11-06T19:17:07.246208Z",
          "shell.execute_reply.started": "2024-11-06T19:17:07.215726Z",
          "shell.execute_reply": "2024-11-06T19:17:07.24481Z"
        },
        "id": "d3-krfWvV2Hn"
      },
      "outputs": [],
      "execution_count": null
    },
    {
      "cell_type": "code",
      "source": [
        "women = train_data.loc[train_data.Sex == \"female\"][\"Survived\"]\n",
        "print(women)\n",
        "rate_women = sum(women)/len(women)\n",
        "print(f'The percentage of women who survived {rate_women}')"
      ],
      "metadata": {
        "trusted": true,
        "execution": {
          "iopub.status.busy": "2024-11-06T19:22:22.120066Z",
          "iopub.execute_input": "2024-11-06T19:22:22.120567Z",
          "iopub.status.idle": "2024-11-06T19:22:22.132184Z",
          "shell.execute_reply.started": "2024-11-06T19:22:22.120521Z",
          "shell.execute_reply": "2024-11-06T19:22:22.130829Z"
        },
        "id": "EZbhvqudV2Hn"
      },
      "outputs": [],
      "execution_count": null
    },
    {
      "cell_type": "code",
      "source": [
        "men = train_data.loc[train_data.Sex == \"male\"][\"Survived\"]\n",
        "rate_men = sum(men)/len(men)\n",
        "print(f'The percentage of men who survived {rate_men}')"
      ],
      "metadata": {
        "trusted": true,
        "execution": {
          "iopub.status.busy": "2024-11-06T19:24:52.964009Z",
          "iopub.execute_input": "2024-11-06T19:24:52.964476Z",
          "iopub.status.idle": "2024-11-06T19:24:52.973926Z",
          "shell.execute_reply.started": "2024-11-06T19:24:52.964432Z",
          "shell.execute_reply": "2024-11-06T19:24:52.972447Z"
        },
        "id": "cwra9VW_V2Hn"
      },
      "outputs": [],
      "execution_count": null
    },
    {
      "cell_type": "code",
      "source": [
        "from sklearn.ensemble import RandomForestClassifier\n",
        "y = train_data[\"Survived\"]\n",
        "features = [\"Pclass\",\"Sex\",\"SibSp\",\"Parch\"]\n",
        "X = pd.get_dummies(train_data[features])\n",
        "X_test = pd.get_dummies(test_data[features])\n",
        "model = RandomForestClassifier(n_estimators=100,max_depth=5,random_state=1)\n",
        "model.fit(X,y)\n",
        "predictions=model.predict(X_test)\n",
        "output = pd.DataFrame({\"PassengerId\": test_data.PassengerId, \"Survived\":predictions})\n",
        "#print(output)\n",
        "output.to_csv('submission.csv', index=False)\n",
        "print(\"Your submission was successfully saved!\")"
      ],
      "metadata": {
        "trusted": true,
        "execution": {
          "iopub.status.busy": "2024-11-06T19:36:48.240621Z",
          "iopub.execute_input": "2024-11-06T19:36:48.241143Z",
          "iopub.status.idle": "2024-11-06T19:36:48.528273Z",
          "shell.execute_reply.started": "2024-11-06T19:36:48.241098Z",
          "shell.execute_reply": "2024-11-06T19:36:48.526953Z"
        },
        "id": "QHSLSbcqV2Hn"
      },
      "outputs": [],
      "execution_count": null
    },
    {
      "cell_type": "code",
      "source": [],
      "metadata": {
        "trusted": true,
        "id": "8PbxfTpIV2Hn"
      },
      "outputs": [],
      "execution_count": null
    }
  ]
}